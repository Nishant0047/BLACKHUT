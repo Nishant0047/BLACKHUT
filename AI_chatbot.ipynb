{
  "cells": [
    {
      "cell_type": "code",
      "execution_count": 1,
      "metadata": {
        "id": "t58PvU1OnX9Q"
      },
      "outputs": [],
      "source": [
        "# @title Configure Gemini API key\n",
        "\n",
        "import google.generativeai as genai\n",
        "from google.colab import userdata\n",
        "\n",
        "gemini_api_secret_name = 'GOOGLE_API_KEY'  # @param {type: \"string\"}\n",
        "\n",
        "try:\n",
        "  GOOGLE_API_KEY=userdata.get(gemini_api_secret_name)\n",
        "  genai.configure(api_key=GOOGLE_API_KEY)\n",
        "except userdata.SecretNotFoundError as e:\n",
        "   print(f'Secret not found\\n\\nThis expects you to create a secret named {gemini_api_secret_name} in Colab\\n\\nVisit https://aistudio.google.com/app/apikey to create an API key\\n\\nStore that in the secrets section on the left side of the notebook (key icon)\\n\\nName the secret {gemini_api_secret_name}')\n",
        "   raise e\n",
        "except userdata.NotebookAccessError as e:\n",
        "  print(f'You need to grant this notebook access to the {gemini_api_secret_name} secret in order for the notebook to access Gemini on your behalf.')\n",
        "  raise e\n",
        "except Exception as e:\n",
        "  print(f\"There was an unknown error. Ensure you have a secret {gemini_api_secret_name} stored in Colab and it's a valid key from https://aistudio.google.com/app/apikey\")\n",
        "  raise e"
      ]
    },
    {
      "cell_type": "code",
      "execution_count": 12,
      "metadata": {
        "colab": {
          "base_uri": "https://localhost:8080/",
          "height": 181
        },
        "id": "5_Z-mv8sCty_",
        "outputId": "cd60d99f-3ea8-4bc9-8497-85ce94701c80"
      },
      "outputs": [
        {
          "data": {
            "application/vnd.google.colaboratory.intrinsic+json": {
              "type": "string"
            },
            "text/plain": [
              "\"Quicksort is a highly efficient sorting algorithm, known for its average-case time complexity of O(n log n).  However, its worst-case time complexity is O(n²), making it crucial to understand its mechanics and potential pitfalls.\\n\\nHere's a breakdown of how Quicksort works:\\n\\n**1. Divide and Conquer:** Quicksort is a divide-and-conquer algorithm.  This means it breaks a problem down into smaller, self-similar subproblems until they become trivial to solve.  Then, it combines the solutions to the subproblems to solve the original problem.\\n\\n**2. Choosing a Pivot:** The core of Quicksort lies in selecting a *pivot* element from the array.  The choice of pivot significantly impacts performance.  Common strategies include:\\n\\n* **First element:** Choosing the first element is simple but can lead to worst-case performance on already sorted or nearly sorted data.\\n* **Last element:** Similar to the first element, susceptible to worst-case scenarios.\\n* **Random element:**  A random pivot helps mitigate worst-case scenarios more effectively.\\n* **Median-of-three:** Selecting the median of the first, middle, and last elements often provides a reasonable pivot.\\n\\n**3. Partitioning:** Once a pivot is chosen, the array is partitioned around the pivot. This means rearranging the elements such that:\\n\\n* All elements smaller than the pivot are placed before it.\\n* All elements greater than the pivot are placed after it.\\n* The pivot is in its final sorted position.\\n\\nThere are various ways to implement partitioning, but the goal remains the same.\\n\\n**4. Recursion:** After partitioning, the algorithm recursively calls itself on the subarrays to the left and right of the pivot.  These subarrays now need to be sorted independently.  The recursion continues until the subarrays are empty or contain only one element (which are inherently sorted).\\n\\n**5. Base Case:** The recursion stops when a subarray is empty or contains only one element.  These are the base cases – they don't require further sorting.\\n\\n**Example (using first element as pivot):**\\n\\nLet's sort the array `[8, 3, 1, 7, 0, 10, 2]`\\n\\n1. **Pivot:** Choose 8 (the first element).\\n2. **Partition:** Rearrange the array so that elements smaller than 8 are before it, and larger elements are after it.  One possible result is `[3, 1, 7, 0, 2, 8, 10]`.  Note that the order of elements smaller/larger than 8 doesn't matter at this stage, only their relative position to 8.\\n3. **Recursion:** Recursively sort the subarrays `[3, 1, 7, 0, 2]` and `[10]`.\\n4. This process continues until all subarrays are sorted.\\n\\n**Code Example (Python - using first element as pivot):**\\n\\n```python\\ndef quicksort(arr):\\n    if len(arr) < 2:\\n        return arr\\n    else:\\n        pivot = arr[0]\\n        less = [i for i in arr[1:] if i <= pivot]\\n        greater = [i for i in arr[1:] if i > pivot]\\n        return quicksort(less) + [pivot] + quicksort(greater)\\n\\nmy_list = [8, 3, 1, 7, 0, 10, 2]\\nsorted_list = quicksort(my_list)\\nprint(sorted_list)  # Output: [0, 1, 2, 3, 7, 8, 10]\\n```\\n\\n**Worst-Case Scenario:**  The worst-case occurs when the pivot consistently selects the smallest or largest element at each step.  This leads to O(n²) time complexity because the partitioning doesn't effectively reduce the problem size.\\n\\n**Advantages:**\\n\\n* **In-place sorting (generally):**  It can be implemented to require minimal extra space.\\n* **Very efficient on average:** O(n log n) average-case performance is excellent.\\n* **Cache-friendly:**  Because it works on contiguous sections of memory, it tends to be cache-friendly.\\n\\n\\n**Disadvantages:**\\n\\n* **Worst-case O(n²):** This can happen with poor pivot selection.\\n* **Not stable:**  The relative order of equal elements may not be preserved.\\n\\n\\nIn summary, Quicksort is a powerful algorithm, but its efficiency hinges on a good pivot selection strategy.  Using a randomized pivot significantly reduces the chances of encountering the worst-case scenario.\\n\""
            ]
          },
          "execution_count": 12,
          "metadata": {},
          "output_type": "execute_result"
        }
      ],
      "source": [
        "# @title Connect to the API and send an example message\n",
        "\n",
        "text = 'explain quick sort' # @param {type: \"string\"}\n",
        "\n",
        "model = genai.GenerativeModel('gemini-1.5-flash')\n",
        "chat = model.start_chat(history=[])\n",
        "\n",
        "response = chat.send_message(text)\n",
        "response.text"
      ]
    },
    {
      "cell_type": "code",
      "execution_count": 14,
      "metadata": {
        "colab": {
          "base_uri": "https://localhost:8080/",
          "height": 181
        },
        "id": "UAZlfim8D8fr",
        "outputId": "e17774ee-7673-46f5-e0a9-7c1cdfe3c827"
      },
      "outputs": [
        {
          "name": "stdout",
          "output_type": "stream",
          "text": [
            "\u001b[31m(WARNING: System instructions ignored, gemini-1.0-pro does not support system instructions)\u001b[0m\n"
          ]
        },
        {
          "data": {
            "application/vnd.google.colaboratory.intrinsic+json": {
              "type": "string"
            },
            "text/plain": [
              "'Electricity is the flow of electric charge.  This charge can be carried by various charged particles, most commonly electrons, but also ions (atoms that have lost or gained electrons).  This flow, or current, is driven by an electrical potential difference, often called voltage.  Voltage is a measure of the electrical potential energy per unit charge.  The higher the voltage, the greater the \"push\" on the charges, causing them to flow more readily.\\n\\nIn simpler terms:  Imagine electricity as water flowing through pipes.  Voltage is like the water pressure, pushing the water (electrons) through the pipes (wires). The amount of water flowing is like the current (amperage).\\n\\nElectricity is a fundamental force of nature and has many applications, powering everything from light bulbs to computers.  It\\'s a form of energy that can be converted into other forms of energy, such as light, heat, and motion.\\n'"
            ]
          },
          "execution_count": 14,
          "metadata": {},
          "output_type": "execute_result"
        }
      ],
      "source": [
        "# @title Create a prompt\n",
        "\n",
        "import google.generativeai as genai\n",
        "from google.colab import userdata\n",
        "\n",
        "api_key_name = 'GOOGLE_API_KEY' # @param {type: \"string\"}\n",
        "prompt = 'What is a electricity?' # @param {type: \"string\"}\n",
        "system_instructions = 'You have a tendency to speak in riddles.' # @param {type: \"string\"}\n",
        "model = 'gemini-1.5-flash' # @param {type: \"string\"} [\"gemini-1.0-pro\", \"gemini-1.5-pro\", \"gemini-1.5-flash\"]\n",
        "temperature = 0.5 # @param {type: \"slider\", min: 0, max: 2, step: 0.05}\n",
        "stop_sequence = '' # @param {type: \"string\"}\n",
        "\n",
        "if model == 'gemini-1.5-flash' and system_instructions is not None:\n",
        "  system_instructions = None\n",
        "  print('\\x1b[31m(WARNING: System instructions ignored, gemini-1.0-pro does not support system instructions)\\x1b[0m')\n",
        "\n",
        "if model == 'gemini-1.5-flash' and temperature > 1:\n",
        "  temperature = 1\n",
        "  print('\\x1b[34m(INFO: Temperature set to 1, gemini-1.0-pro does not support temperature > 1)\\x1b[0m')\n",
        "\n",
        "if system_instructions == '':\n",
        "  system_instructions = None\n",
        "\n",
        "api_key = userdata.get(api_key_name)\n",
        "genai.configure(api_key=api_key)\n",
        "model = genai.GenerativeModel(model, system_instruction=system_instructions)\n",
        "config = genai.GenerationConfig(temperature=temperature)\n",
        "response = model.generate_content(contents=[prompt], generation_config=config)\n",
        "response.text"
      ]
    }
  ],
  "metadata": {
    "colab": {
      "provenance": []
    },
    "kernelspec": {
      "display_name": "Python 3",
      "name": "python3"
    },
    "language_info": {
      "name": "python"
    }
  },
  "nbformat": 4,
  "nbformat_minor": 0
}
